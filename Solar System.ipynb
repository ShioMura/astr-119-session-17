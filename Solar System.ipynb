{
 "cells": [
  {
   "cell_type": "code",
   "execution_count": 3,
   "metadata": {},
   "outputs": [],
   "source": [
    "%matplotlib inline\n",
    "import matplotlib.pyplot as plt\n",
    "import numpy as np\n",
    "from collections import namedtuple"
   ]
  },
  {
   "cell_type": "code",
   "execution_count": 4,
   "metadata": {},
   "outputs": [],
   "source": [
    "class planet():\n",
    "    \"A planet in our solar system\"\n",
    "    def __init__(self,semimajor,eccentricity):\n",
    "        self.x   = np.zeros(2)\n",
    "        self.v   = np.zeros(2)\n",
    "        self.a_g = np.zeros(2)\n",
    "        self.t  = 0.0\n",
    "        self.dt = 0.0\n",
    "        self.a  = semimajor\n",
    "        self.e  = eccentricity\n",
    "        self.istep = 0\n",
    "        self.name  = \"\"\n",
    "        "
   ]
  },
  {
   "cell_type": "code",
   "execution_count": 5,
   "metadata": {},
   "outputs": [],
   "source": [
    "solar_system = { \"M_sun\":1.0, \"G\":39.4784176043574320}"
   ]
  },
  {
   "cell_type": "code",
   "execution_count": 7,
   "metadata": {},
   "outputs": [],
   "source": [
    "def SolarCircularVelocity(p):\n",
    "    G = solar_system[\"G\"]\n",
    "    M = solar_system[\"M_sun\"]\n",
    "    r = ( p.x[0]**2 + p.x[1]**2)**0.5\n",
    "    return (G*M/r)**0.5"
   ]
  },
  {
   "cell_type": "code",
   "execution_count": 8,
   "metadata": {},
   "outputs": [],
   "source": [
    "def SolarGravitationAcceleration(p):\n",
    "    G = solar_system[\"G\"]\n",
    "    M = solar_system[\"M_sun\"]\n",
    "    r = ( p.x[0]**2 + p.x[1]**2)**0.5\n",
    "    \n",
    "    a_grav = -1.0*G*M/r**2\n",
    "    \n",
    "    if(p.x[0]==0.0):\n",
    "        if(p.x[1]>0.0):\n",
    "            theta = 0.5*np.pi\n",
    "        else:\n",
    "            theta = np.arctan2(p.x[1],p.x[0])\n",
    "    else:\n",
    "        theta = np.arctan2(p.x[1],p.x[0])\n",
    "    return a_grav*np.cos(theta), a_grav*np.sin(theta)"
   ]
  },
  {
   "cell_type": "code",
   "execution_count": 9,
   "metadata": {},
   "outputs": [],
   "source": [
    "def calc_dt(p):\n",
    "    ETA_TIME_STEP = 0.0004\n",
    "    \n",
    "    eta = ETA_TIME_STEP\n",
    "    v = (p.v[0]**2 + p.v[1]**2)**0.5\n",
    "    a = (p.a_g[0]**2 + p.a_g[1]**2)**0.5\n",
    "    dt = eta * np.fmin(1./np.fabs(v),1./np.fabs(a)**0.5)\n",
    "    \n",
    "    return dt"
   ]
  },
  {
   "cell_type": "code",
   "execution_count": null,
   "metadata": {},
   "outputs": [],
   "source": [
    "def SetPlanet(p,i):\n",
    "    \n",
    "    AU_in_km = 1.495979e+8\n",
    "    \n",
    "    v_c = 0.0\n",
    "    v_e = 0.0\n",
    "    \n",
    "    if(i==0):\n",
    "        p.a = 57909227.0/AU_in_km\n",
    "        p.e = 0.20563593\n",
    "        p.name = \"Mercury\"\n",
    "    elif(i==1):\n",
    "        p.a = 108209475.0/AU_in_km\n",
    "        p.e = 0.00677672\n",
    "        p.name = \"Venus\"\n",
    "    elif(i==2):\n",
    "        p.a = 1.0\n",
    "        p.e = 0.01671123\n",
    "        p.name = \"Earth\"\n",
    "    p.t = 0.0\n",
    "    p.x[0] = p.a*(1.0-p.e)\n",
    "    p.x[1] = 0.0\n",
    "    \n",
    "    v_c = SolarCircularVelocity(p)\n",
    "    v_e = v_c*(1 + p.e)**0.5\n",
    "    \n",
    "    p.v[0] = 0.0\n",
    "    p.v[1] = v_e\n",
    "    \n",
    "    p.a_g = SolarGravitationalAccel"
   ]
  },
  {
   "cell_type": "code",
   "execution_count": null,
   "metadata": {},
   "outputs": [],
   "source": []
  },
  {
   "cell_type": "code",
   "execution_count": 6,
   "metadata": {},
   "outputs": [
    {
     "ename": "SyntaxError",
     "evalue": "invalid syntax (<ipython-input-6-2966dfcaefb9>, line 8)",
     "output_type": "error",
     "traceback": [
      "\u001b[0;36m  File \u001b[0;32m\"<ipython-input-6-2966dfcaefb9>\"\u001b[0;36m, line \u001b[0;32m8\u001b[0m\n\u001b[0;31m    While(t<t_max):\u001b[0m\n\u001b[0m                   ^\u001b[0m\n\u001b[0;31mSyntaxError\u001b[0m\u001b[0;31m:\u001b[0m invalid syntax\n"
     ]
    }
   ],
   "source": [
    "def EvolveSolarSystem(p,n_planets,t_max):\n",
    "    ndim = 2\n",
    "    dt = 0.5/365.25\n",
    "    t = 0.0\n",
    "    istep = 0\n",
    "    SaveSolarSystem(p,n_planet,t,dt,istep,ndim)\n",
    "    \n",
    "    While(t<t_max):\n",
    "        if(t+dt>t_max):\n",
    "            dt = t_max - t\n",
    "            for i in range(n_planets):\n",
    "                while(p[i].t<t+dt):\n",
    "                    if(p[i].istep==0):\n",
    "                        for k in range(ndim):\n",
    "                            p[i].x[k] = x_first_step(p[i].x[k],p[i].v[k],p[i].a_g[k],p[i].dt)\n",
    "                        p[i].a_g = SolarGravitationalAcceleration(p[i])\n",
    "                        p[i].t += 0.5*p[i].dt\n",
    "                        p[i].dt = calc_dt(p[i])\n",
    "                    if(p[i].t + p[i].dt > t+dt):\n",
    "                        p{i}.dt = t+dt-p[i].t\n",
    "                    for k in range(ndim):\n",
    "                        p[i].v[k] = v_full_step(p[i].v[k],p[i].a_g[k],p[i].dt)\n",
    "                    for k in range(ndim):\n",
    "                        p[i].x[k] = x_full_step(p[i].x[k],p[i].v[k],p[i].a_g[k],p[i].dt)\n",
    "                    p[i].a_g = SolarGravitationalAccleration(p[i])\n",
    "                    p[i].t += p[i].dt\n",
    "                    p[i].dt = calc_dt(p[i])\n",
    "                    p[i].istep+=1\n",
    "                t+=dt\n",
    "                istep += 1\n",
    "                SaveSolarSystem(p,n_planets,t,dt,istep,ndim)\n",
    "        print(\"Time t =\",t)\n",
    "        print(\"Maximum t =\",t_max)\n",
    "        print(\"Maximum number of steps = \",istep)"
   ]
  },
  {
   "cell_type": "code",
   "execution_count": null,
   "metadata": {},
   "outputs": [],
   "source": []
  }
 ],
 "metadata": {
  "kernelspec": {
   "display_name": "Python 3",
   "language": "python",
   "name": "python3"
  },
  "language_info": {
   "codemirror_mode": {
    "name": "ipython",
    "version": 3
   },
   "file_extension": ".py",
   "mimetype": "text/x-python",
   "name": "python",
   "nbconvert_exporter": "python",
   "pygments_lexer": "ipython3",
   "version": "3.6.5"
  }
 },
 "nbformat": 4,
 "nbformat_minor": 2
}
